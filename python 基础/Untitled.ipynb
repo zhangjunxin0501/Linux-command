{
 "cells": [
  {
   "cell_type": "code",
   "execution_count": 3,
   "metadata": {},
   "outputs": [
    {
     "name": "stdout",
     "output_type": "stream",
     "text": [
      "请输入性别nan\n",
      "你输入的性别是：nan\n",
      "来吧，纪念一下情人节\n",
      "开始上课了\n"
     ]
    }
   ],
   "source": [
    "gender = input(\"请输入性别\")\n",
    "print(\"你输入的性别是：{0}\".format(gender))\n",
    "\n",
    "if  gender == \"nan\":\n",
    "    print(\"来吧，纪念一下情人节\")\n",
    "else:\n",
    "    print(\"发糖了\")\n",
    "    print(\"特殊照顾\")\n",
    "    \n",
    "print(\"开始上课了\")"
   ]
  },
  {
   "cell_type": "code",
   "execution_count": 14,
   "metadata": {},
   "outputs": [
    {
     "name": "stdout",
     "output_type": "stream",
     "text": [
      "请输入学生成绩：78\n",
      "C\n"
     ]
    }
   ],
   "source": [
    "score = input(\"请输入学生成绩：\")\n",
    "score = int(scoe)\n",
    "\n",
    "if  score>=90:\n",
    "    print(\"A\")\n",
    "if  score>=80 and score<90:\n",
    "    print(\"B\")\n",
    "if  score>=70 and score<80:\n",
    "    print(\"C\")\n",
    "if  score>=60 and score<70:\n",
    "    print(\"D\")\n",
    "if  score<60:\n",
    "    print(\"不及格\")"
   ]
  },
  {
   "cell_type": "code",
   "execution_count": 24,
   "metadata": {},
   "outputs": [
    {
     "name": "stdout",
     "output_type": "stream",
     "text": [
      "zhangsan\n",
      "不约\n",
      "张三\n",
      "不约\n",
      "wangwu\n",
      "约起wangwu\n"
     ]
    }
   ],
   "source": [
    "for name in ['zhangsan', '张三','wangwu']:\n",
    "    print(name)\n",
    "    if name == \"wangwu\":\n",
    "        print(\"约起{0}\".format(name))\n",
    "    else:\n",
    "        print(\"不约\")"
   ]
  },
  {
   "cell_type": "code",
   "execution_count": 26,
   "metadata": {},
   "outputs": [
    {
     "name": "stdout",
     "output_type": "stream",
     "text": [
      "1\n",
      "2\n",
      "3\n",
      "4\n",
      "5\n",
      "6\n",
      "7\n",
      "8\n",
      "9\n",
      "10\n"
     ]
    }
   ],
   "source": [
    "for i in range(1,11):\n",
    "    print(i)"
   ]
  }
 ],
 "metadata": {
  "kernelspec": {
   "display_name": "Python 3",
   "language": "python",
   "name": "python3"
  },
  "language_info": {
   "codemirror_mode": {
    "name": "ipython",
    "version": 3
   },
   "file_extension": ".py",
   "mimetype": "text/x-python",
   "name": "python",
   "nbconvert_exporter": "python",
   "pygments_lexer": "ipython3",
   "version": "3.6.3"
  }
 },
 "nbformat": 4,
 "nbformat_minor": 2
}
